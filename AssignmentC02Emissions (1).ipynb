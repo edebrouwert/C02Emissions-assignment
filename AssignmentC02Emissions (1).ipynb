{
  "nbformat": 4,
  "nbformat_minor": 0,
  "metadata": {
    "colab": {
      "provenance": [],
      "collapsed_sections": []
    },
    "kernelspec": {
      "name": "python3",
      "display_name": "Python 3"
    },
    "language_info": {
      "name": "python"
    }
  },
  "cells": [
    {
      "cell_type": "code",
      "source": [
        "import pandas as pd\n",
        "import numpy as np\n",
        "import matplotlib.pyplot as plt\n",
        "\n",
        "#ingest data\n",
        "tables = pd.read_html(\"https://en.wikipedia.org/wiki/List_of_countries_by_carbon_dioxide_emissions\")\n",
        "emissions = tables[1]\n",
        "\n",
        "#rename columns\n",
        "emissions.columns = [\"country\", \"emission1990\", \"emission2005\", \"emission2017\", \"2017percentage\", \"change2017_1990\", \"2017perlandarea\", \"2017percapita\", \"2018incl\", \"2018excl\"]\n",
        "\n",
        "#filter out the rows that aren't countries, which are the first 3 rows and \"European Union\" \n",
        "emissions = emissions.loc[(emissions.index > 2) & (emissions.country != \"European Union\"), :] "
      ],
      "metadata": {
        "id": "_9k0wCD_mOIg"
      },
      "execution_count": 110,
      "outputs": []
    },
    {
      "cell_type": "code",
      "source": [
        "#Graph 1: C02 of the bigger countries\n",
        "\n",
        "#sort on 2017 column\n",
        "sortedemissions = emissions.sort_values(\"emission2017\", ascending=False)\n",
        "\n",
        "#only include first 5\n",
        "biggestproducers = sortedemissions.iloc[0:5, 0:4]\n",
        "\n",
        "#make graph\n",
        "fig, ax = plt.subplots()\n",
        "\n",
        "years = biggestproducers.columns[1:4]\n",
        "\n",
        "for index, row in biggestproducers.iterrows():\n",
        "  plt.plot(years, row[1:], label = row[0])\n",
        "\n",
        "plt.title(\"C02 emissions of the biggest producers\")\n",
        "plt.xlabel(\"Year\")\n",
        "plt.ylabel(\"Mt C02\")\n",
        "plt.legend(loc= \"center left\", bbox_to_anchor=(1, 0.5))\n",
        "plt.grid()\n",
        "plt.show()\n"
      ],
      "metadata": {
        "id": "duacgSs3xIKD"
      },
      "execution_count": null,
      "outputs": []
    },
    {
      "cell_type": "code",
      "source": [
        "#Graph 2: worst and best changers\n",
        "\n",
        "#add columns\n",
        "emissions[\"1990Percentage\"] = 100\n",
        "emissions['Change2005'] = (emissions.loc[:,'emission2005'] / emissions.loc[:,'emission1990']) * 100\n",
        "emissions[\"Change2017\"] = (emissions.loc[:, \"emission2017\"] / emissions.loc[:, \"emission1990\"]) * 100\n",
        "\n",
        "#make new dataframe which only includes countries with an emission bigger dan 5 Mt C02\n",
        "relativeemissions = emissions.loc[emissions.emission1990 > 5.0]\n",
        "relativeemissions = relativeemissions.loc[:, [\"country\", \"1990Percentage\", \"Change2005\", \"Change2017\"]]\n",
        "\n",
        "#sort on the best and worst scoring countries\n",
        "relativeemissions = relativeemissions.sort_values(\"Change2017\")\n",
        "\n",
        "#make new dataframe which only includes the best and worst scoring countries\n",
        "best_worst_relativeemissions = relativeemissions.iloc[[0, 1, 3, -3, -2, -1], :]\n",
        "\n",
        "#make chart\n",
        "fig, ax = plt.subplots()\n",
        "\n",
        "years = best_worst_relativeemissions.columns[1:4]\n",
        "\n",
        "for index, row in best_worst_relativeemissions.iterrows():\n",
        "  plt.plot(years, row[1:], label = row[0])\n",
        "\n",
        "plt.title(\"Best and worst performers C02 emissions\")\n",
        "plt.xlabel(\"Year\")\n",
        "plt.ylabel(\"Percent change\")\n",
        "plt.legend(loc= \"center left\", bbox_to_anchor=(1, 0.5))\n",
        "plt.grid()\n",
        "plt.show()\n"
      ],
      "metadata": {
        "id": "WL-VQ9FuD9sr"
      },
      "execution_count": null,
      "outputs": []
    }
  ]
}